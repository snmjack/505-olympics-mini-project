{
  "nbformat": 4,
  "nbformat_minor": 0,
  "metadata": {
    "colab": {
      "name": "Colab's New Code Editor",
      "version": "0.3.2",
      "provenance": [],
      "collapsed_sections": [],
      "include_colab_link": true
    },
    "kernelspec": {
      "display_name": "Python 3",
      "name": "python3"
    }
  },
  "cells": [
    {
      "cell_type": "markdown",
      "metadata": {
        "id": "view-in-github",
        "colab_type": "text"
      },
      "source": [
        "<a href=\"https://colab.research.google.com/github/snmjack/505-olympics-mini-project/blob/master/Colab's_olympics_mini_project_coursera.ipynb\" target=\"_parent\"><img src=\"https://colab.research.google.com/assets/colab-badge.svg\" alt=\"Open In Colab\"/></a>"
      ]
    },
    {
      "cell_type": "code",
      "metadata": {
        "id": "i5YtDETiKp18",
        "colab_type": "code",
        "colab": {}
      },
      "source": [
        "import tensorflow as tf\n",
        "import numpy as np\n",
        "from tensorflow import keras"
      ],
      "execution_count": 0,
      "outputs": []
    },
    {
      "cell_type": "code",
      "metadata": {
        "id": "VI7uqCAtQW3h",
        "colab_type": "code",
        "colab": {}
      },
      "source": [
        ""
      ],
      "execution_count": 0,
      "outputs": []
    },
    {
      "cell_type": "code",
      "metadata": {
        "id": "BvOYYd4vLSDt",
        "colab_type": "code",
        "colab": {}
      },
      "source": [
        ""
      ],
      "execution_count": 0,
      "outputs": []
    },
    {
      "cell_type": "markdown",
      "metadata": {
        "colab_type": "text",
        "id": "qTXOGdaz4wy0"
      },
      "source": [
        "# Richer syntax highlighting\n",
        "\n",
        "Improved support for nested languages:\n",
        "\n",
        "```notebook-python\n",
        "df = pd.io.gbq.read_gbq('''\n",
        "  SELECT \n",
        "    REGEXP_EXTRACT(name, '[a-zA-Z]+'),\n",
        "    SUM(number) as count\n",
        "  FROM `bigquery-public-data.usa_names.usa_1910_2013`\n",
        "  WHERE state = 'TX'\n",
        "  GROUP BY name\n",
        "  ORDER BY count DESC\n",
        "  LIMIT 100\n",
        "''')\n",
        "```"
      ]
    }
  ]
}